{
 "cells": [
  {
   "cell_type": "markdown",
   "metadata": {},
   "source": [
    "# Project 4: Movie Recommendation\n",
    "\n",
    "In this notebook, we will be recommending movies based on 1 million anonymous ratings of approximately 3,900 movies reviewed by 6,040 MovieLens users who joined MovieLens in 2000.  \n",
    "\n",
    "\n",
    "## Table of Contents\n",
    "\n",
    "I.  [Load Data](#Load-Data)<br>\n",
    "II. [Exploratory Data Analysis](#Exploratory-Data-Analysis)<br>\n",
    "III.[Genre Based Recommendations](#Genre)<br>\n",
    "IV. [User Based Collaborative Filtering](#User)<br>\n",
    "V.  [Item Based Collaborative Filtering](#Item)<br>\n",
    "VI. [Matrix Factorization using SVD](#Matrix-Fact)<br>\n",
    "VII.[Collaborative Filtering Based Recommendations](#Collaborative)<br>"
   ]
  },
  {
   "cell_type": "markdown",
   "metadata": {},
   "source": [
    "### <a class=\"anchor\" id=\"Load-Data\">Part I : Load Data</a>"
   ]
  },
  {
   "cell_type": "markdown",
   "metadata": {},
   "source": [
    "`1.` Import libraries"
   ]
  },
  {
   "cell_type": "code",
   "execution_count": 696,
   "metadata": {},
   "outputs": [],
   "source": [
    "import pandas as pd\n",
    "import numpy as np\n",
    "import matplotlib.pyplot as plt\n",
    "from surprise import KNNWithMeans\n",
    "from surprise import SVD\n",
    "from surprise import Dataset\n",
    "from surprise import Reader\n",
    "from surprise.model_selection import cross_validate\n",
    "\n",
    "%matplotlib inline"
   ]
  },
  {
   "cell_type": "markdown",
   "metadata": {},
   "source": [
    "`2.` Load ratings data"
   ]
  },
  {
   "cell_type": "code",
   "execution_count": 641,
   "metadata": {},
   "outputs": [
    {
     "data": {
      "text/html": [
       "<div>\n",
       "<style scoped>\n",
       "    .dataframe tbody tr th:only-of-type {\n",
       "        vertical-align: middle;\n",
       "    }\n",
       "\n",
       "    .dataframe tbody tr th {\n",
       "        vertical-align: top;\n",
       "    }\n",
       "\n",
       "    .dataframe thead th {\n",
       "        text-align: right;\n",
       "    }\n",
       "</style>\n",
       "<table border=\"1\" class=\"dataframe\">\n",
       "  <thead>\n",
       "    <tr style=\"text-align: right;\">\n",
       "      <th></th>\n",
       "      <th>UserID</th>\n",
       "      <th>MovieID</th>\n",
       "      <th>Rating</th>\n",
       "    </tr>\n",
       "  </thead>\n",
       "  <tbody>\n",
       "    <tr>\n",
       "      <td>0</td>\n",
       "      <td>1</td>\n",
       "      <td>1193</td>\n",
       "      <td>5</td>\n",
       "    </tr>\n",
       "    <tr>\n",
       "      <td>1</td>\n",
       "      <td>1</td>\n",
       "      <td>661</td>\n",
       "      <td>3</td>\n",
       "    </tr>\n",
       "    <tr>\n",
       "      <td>2</td>\n",
       "      <td>1</td>\n",
       "      <td>914</td>\n",
       "      <td>3</td>\n",
       "    </tr>\n",
       "    <tr>\n",
       "      <td>3</td>\n",
       "      <td>1</td>\n",
       "      <td>3408</td>\n",
       "      <td>4</td>\n",
       "    </tr>\n",
       "    <tr>\n",
       "      <td>4</td>\n",
       "      <td>1</td>\n",
       "      <td>2355</td>\n",
       "      <td>5</td>\n",
       "    </tr>\n",
       "  </tbody>\n",
       "</table>\n",
       "</div>"
      ],
      "text/plain": [
       "   UserID  MovieID  Rating\n",
       "0       1     1193       5\n",
       "1       1      661       3\n",
       "2       1      914       3\n",
       "3       1     3408       4\n",
       "4       1     2355       5"
      ]
     },
     "execution_count": 641,
     "metadata": {},
     "output_type": "execute_result"
    }
   ],
   "source": [
    "myurl = \"https://liangfgithub.github.io/MovieData/ratings.dat\"\n",
    "ratings = pd.read_csv(myurl,encoding='latin1',sep='::',header=None,engine='python')\n",
    "ratings.columns=['UserID', 'MovieID', 'Rating', 'Timestamp']\n",
    "ratings.drop(columns='Timestamp',inplace=True)\n",
    "ratings.head()"
   ]
  },
  {
   "cell_type": "markdown",
   "metadata": {},
   "source": [
    "`3.` Load movies data, extract year from movie title and one hot-encode genre"
   ]
  },
  {
   "cell_type": "code",
   "execution_count": 642,
   "metadata": {
    "scrolled": true
   },
   "outputs": [
    {
     "data": {
      "text/html": [
       "<div>\n",
       "<style scoped>\n",
       "    .dataframe tbody tr th:only-of-type {\n",
       "        vertical-align: middle;\n",
       "    }\n",
       "\n",
       "    .dataframe tbody tr th {\n",
       "        vertical-align: top;\n",
       "    }\n",
       "\n",
       "    .dataframe thead th {\n",
       "        text-align: right;\n",
       "    }\n",
       "</style>\n",
       "<table border=\"1\" class=\"dataframe\">\n",
       "  <thead>\n",
       "    <tr style=\"text-align: right;\">\n",
       "      <th></th>\n",
       "      <th>MovieID</th>\n",
       "      <th>Title</th>\n",
       "      <th>Genres</th>\n",
       "      <th>Year</th>\n",
       "      <th>Action</th>\n",
       "      <th>Adventure</th>\n",
       "      <th>Animation</th>\n",
       "      <th>Children's</th>\n",
       "      <th>Comedy</th>\n",
       "      <th>Crime</th>\n",
       "      <th>...</th>\n",
       "      <th>Fantasy</th>\n",
       "      <th>Film-Noir</th>\n",
       "      <th>Horror</th>\n",
       "      <th>Musical</th>\n",
       "      <th>Mystery</th>\n",
       "      <th>Romance</th>\n",
       "      <th>Sci-Fi</th>\n",
       "      <th>Thriller</th>\n",
       "      <th>War</th>\n",
       "      <th>Western</th>\n",
       "    </tr>\n",
       "  </thead>\n",
       "  <tbody>\n",
       "    <tr>\n",
       "      <td>0</td>\n",
       "      <td>1</td>\n",
       "      <td>Toy Story (1995)</td>\n",
       "      <td>Animation|Children's|Comedy</td>\n",
       "      <td>1995</td>\n",
       "      <td>0</td>\n",
       "      <td>0</td>\n",
       "      <td>1</td>\n",
       "      <td>1</td>\n",
       "      <td>1</td>\n",
       "      <td>0</td>\n",
       "      <td>...</td>\n",
       "      <td>0</td>\n",
       "      <td>0</td>\n",
       "      <td>0</td>\n",
       "      <td>0</td>\n",
       "      <td>0</td>\n",
       "      <td>0</td>\n",
       "      <td>0</td>\n",
       "      <td>0</td>\n",
       "      <td>0</td>\n",
       "      <td>0</td>\n",
       "    </tr>\n",
       "    <tr>\n",
       "      <td>1</td>\n",
       "      <td>2</td>\n",
       "      <td>Jumanji (1995)</td>\n",
       "      <td>Adventure|Children's|Fantasy</td>\n",
       "      <td>1995</td>\n",
       "      <td>0</td>\n",
       "      <td>1</td>\n",
       "      <td>0</td>\n",
       "      <td>1</td>\n",
       "      <td>0</td>\n",
       "      <td>0</td>\n",
       "      <td>...</td>\n",
       "      <td>1</td>\n",
       "      <td>0</td>\n",
       "      <td>0</td>\n",
       "      <td>0</td>\n",
       "      <td>0</td>\n",
       "      <td>0</td>\n",
       "      <td>0</td>\n",
       "      <td>0</td>\n",
       "      <td>0</td>\n",
       "      <td>0</td>\n",
       "    </tr>\n",
       "    <tr>\n",
       "      <td>2</td>\n",
       "      <td>3</td>\n",
       "      <td>Grumpier Old Men (1995)</td>\n",
       "      <td>Comedy|Romance</td>\n",
       "      <td>1995</td>\n",
       "      <td>0</td>\n",
       "      <td>0</td>\n",
       "      <td>0</td>\n",
       "      <td>0</td>\n",
       "      <td>1</td>\n",
       "      <td>0</td>\n",
       "      <td>...</td>\n",
       "      <td>0</td>\n",
       "      <td>0</td>\n",
       "      <td>0</td>\n",
       "      <td>0</td>\n",
       "      <td>0</td>\n",
       "      <td>1</td>\n",
       "      <td>0</td>\n",
       "      <td>0</td>\n",
       "      <td>0</td>\n",
       "      <td>0</td>\n",
       "    </tr>\n",
       "    <tr>\n",
       "      <td>3</td>\n",
       "      <td>4</td>\n",
       "      <td>Waiting to Exhale (1995)</td>\n",
       "      <td>Comedy|Drama</td>\n",
       "      <td>1995</td>\n",
       "      <td>0</td>\n",
       "      <td>0</td>\n",
       "      <td>0</td>\n",
       "      <td>0</td>\n",
       "      <td>1</td>\n",
       "      <td>0</td>\n",
       "      <td>...</td>\n",
       "      <td>0</td>\n",
       "      <td>0</td>\n",
       "      <td>0</td>\n",
       "      <td>0</td>\n",
       "      <td>0</td>\n",
       "      <td>0</td>\n",
       "      <td>0</td>\n",
       "      <td>0</td>\n",
       "      <td>0</td>\n",
       "      <td>0</td>\n",
       "    </tr>\n",
       "    <tr>\n",
       "      <td>4</td>\n",
       "      <td>5</td>\n",
       "      <td>Father of the Bride Part II (1995)</td>\n",
       "      <td>Comedy</td>\n",
       "      <td>1995</td>\n",
       "      <td>0</td>\n",
       "      <td>0</td>\n",
       "      <td>0</td>\n",
       "      <td>0</td>\n",
       "      <td>1</td>\n",
       "      <td>0</td>\n",
       "      <td>...</td>\n",
       "      <td>0</td>\n",
       "      <td>0</td>\n",
       "      <td>0</td>\n",
       "      <td>0</td>\n",
       "      <td>0</td>\n",
       "      <td>0</td>\n",
       "      <td>0</td>\n",
       "      <td>0</td>\n",
       "      <td>0</td>\n",
       "      <td>0</td>\n",
       "    </tr>\n",
       "  </tbody>\n",
       "</table>\n",
       "<p>5 rows × 22 columns</p>\n",
       "</div>"
      ],
      "text/plain": [
       "   MovieID                               Title                        Genres  \\\n",
       "0        1                    Toy Story (1995)   Animation|Children's|Comedy   \n",
       "1        2                      Jumanji (1995)  Adventure|Children's|Fantasy   \n",
       "2        3             Grumpier Old Men (1995)                Comedy|Romance   \n",
       "3        4            Waiting to Exhale (1995)                  Comedy|Drama   \n",
       "4        5  Father of the Bride Part II (1995)                        Comedy   \n",
       "\n",
       "   Year  Action  Adventure  Animation  Children's  Comedy  Crime  ...  \\\n",
       "0  1995       0          0          1           1       1      0  ...   \n",
       "1  1995       0          1          0           1       0      0  ...   \n",
       "2  1995       0          0          0           0       1      0  ...   \n",
       "3  1995       0          0          0           0       1      0  ...   \n",
       "4  1995       0          0          0           0       1      0  ...   \n",
       "\n",
       "   Fantasy  Film-Noir  Horror  Musical  Mystery  Romance  Sci-Fi  Thriller  \\\n",
       "0        0          0       0        0        0        0       0         0   \n",
       "1        1          0       0        0        0        0       0         0   \n",
       "2        0          0       0        0        0        1       0         0   \n",
       "3        0          0       0        0        0        0       0         0   \n",
       "4        0          0       0        0        0        0       0         0   \n",
       "\n",
       "   War  Western  \n",
       "0    0        0  \n",
       "1    0        0  \n",
       "2    0        0  \n",
       "3    0        0  \n",
       "4    0        0  \n",
       "\n",
       "[5 rows x 22 columns]"
      ]
     },
     "execution_count": 642,
     "metadata": {},
     "output_type": "execute_result"
    }
   ],
   "source": [
    "myurl = \"https://liangfgithub.github.io/MovieData/movies.dat\"\n",
    "movies = pd.read_csv(myurl,encoding='latin1',sep='::',header=None,engine='python')\n",
    "movies.columns=['MovieID', 'Title', 'Genres']\n",
    "movies['Year'] = movies['Title'].apply(lambda x:x[-5:-1])\n",
    "\n",
    "genre_list = [\"Action\", \"Adventure\", \"Animation\", \n",
    "               \"Children's\", \"Comedy\", \"Crime\",\n",
    "               \"Documentary\", \"Drama\", \"Fantasy\",\n",
    "               \"Film-Noir\", \"Horror\", \"Musical\", \n",
    "               \"Mystery\", \"Romance\", \"Sci-Fi\", \n",
    "               \"Thriller\", \"War\", \"Western\"]\n",
    "for genre in genre_list:\n",
    "    movies[genre] = movies['Genres'].apply(lambda x:1 if genre in x else 0)\n",
    "movies.head()"
   ]
  },
  {
   "cell_type": "markdown",
   "metadata": {},
   "source": [
    "`4.` Load users data"
   ]
  },
  {
   "cell_type": "code",
   "execution_count": 643,
   "metadata": {
    "scrolled": true
   },
   "outputs": [
    {
     "data": {
      "text/html": [
       "<div>\n",
       "<style scoped>\n",
       "    .dataframe tbody tr th:only-of-type {\n",
       "        vertical-align: middle;\n",
       "    }\n",
       "\n",
       "    .dataframe tbody tr th {\n",
       "        vertical-align: top;\n",
       "    }\n",
       "\n",
       "    .dataframe thead th {\n",
       "        text-align: right;\n",
       "    }\n",
       "</style>\n",
       "<table border=\"1\" class=\"dataframe\">\n",
       "  <thead>\n",
       "    <tr style=\"text-align: right;\">\n",
       "      <th></th>\n",
       "      <th>UserID</th>\n",
       "      <th>Gender</th>\n",
       "      <th>Age</th>\n",
       "      <th>Occupation</th>\n",
       "      <th>Zip-code</th>\n",
       "    </tr>\n",
       "  </thead>\n",
       "  <tbody>\n",
       "    <tr>\n",
       "      <td>0</td>\n",
       "      <td>1</td>\n",
       "      <td>F</td>\n",
       "      <td>1</td>\n",
       "      <td>10</td>\n",
       "      <td>48067</td>\n",
       "    </tr>\n",
       "    <tr>\n",
       "      <td>1</td>\n",
       "      <td>2</td>\n",
       "      <td>M</td>\n",
       "      <td>56</td>\n",
       "      <td>16</td>\n",
       "      <td>70072</td>\n",
       "    </tr>\n",
       "    <tr>\n",
       "      <td>2</td>\n",
       "      <td>3</td>\n",
       "      <td>M</td>\n",
       "      <td>25</td>\n",
       "      <td>15</td>\n",
       "      <td>55117</td>\n",
       "    </tr>\n",
       "    <tr>\n",
       "      <td>3</td>\n",
       "      <td>4</td>\n",
       "      <td>M</td>\n",
       "      <td>45</td>\n",
       "      <td>7</td>\n",
       "      <td>02460</td>\n",
       "    </tr>\n",
       "    <tr>\n",
       "      <td>4</td>\n",
       "      <td>5</td>\n",
       "      <td>M</td>\n",
       "      <td>25</td>\n",
       "      <td>20</td>\n",
       "      <td>55455</td>\n",
       "    </tr>\n",
       "  </tbody>\n",
       "</table>\n",
       "</div>"
      ],
      "text/plain": [
       "   UserID Gender  Age  Occupation Zip-code\n",
       "0       1      F    1          10    48067\n",
       "1       2      M   56          16    70072\n",
       "2       3      M   25          15    55117\n",
       "3       4      M   45           7    02460\n",
       "4       5      M   25          20    55455"
      ]
     },
     "execution_count": 643,
     "metadata": {},
     "output_type": "execute_result"
    }
   ],
   "source": [
    "myurl = \"https://liangfgithub.github.io/MovieData/users.dat\"\n",
    "users = pd.read_csv(myurl,encoding='latin1',sep='::',header=None,engine='python')\n",
    "users.columns=['UserID', 'Gender', 'Age', 'Occupation', 'Zip-code']\n",
    "users.head()"
   ]
  },
  {
   "cell_type": "markdown",
   "metadata": {},
   "source": [
    "### <a class=\"anchor\" id=\"Exploratory-Data-Analysis\">Part II : Exploratory Data Analysis</a>"
   ]
  },
  {
   "cell_type": "markdown",
   "metadata": {},
   "source": [
    "`1.` Check for duplicate values"
   ]
  },
  {
   "cell_type": "code",
   "execution_count": 644,
   "metadata": {},
   "outputs": [
    {
     "data": {
      "text/plain": [
       "False"
      ]
     },
     "execution_count": 644,
     "metadata": {},
     "output_type": "execute_result"
    }
   ],
   "source": [
    "movies['MovieID'].duplicated().any() # True"
   ]
  },
  {
   "cell_type": "markdown",
   "metadata": {},
   "source": [
    "There are no duplicate movie ids in movies dataframe"
   ]
  },
  {
   "cell_type": "code",
   "execution_count": 645,
   "metadata": {},
   "outputs": [
    {
     "data": {
      "text/plain": [
       "False"
      ]
     },
     "execution_count": 645,
     "metadata": {},
     "output_type": "execute_result"
    }
   ],
   "source": [
    "users['UserID'].duplicated().any() # True"
   ]
  },
  {
   "cell_type": "markdown",
   "metadata": {},
   "source": [
    "There are no duplicate user ids in users dataframe"
   ]
  },
  {
   "cell_type": "code",
   "execution_count": 646,
   "metadata": {},
   "outputs": [
    {
     "data": {
      "text/plain": [
       "False"
      ]
     },
     "execution_count": 646,
     "metadata": {},
     "output_type": "execute_result"
    }
   ],
   "source": [
    "ratings[['UserID','MovieID']].duplicated().any() # True"
   ]
  },
  {
   "cell_type": "markdown",
   "metadata": {},
   "source": [
    "There are no duplicate reviews by user for any movie"
   ]
  },
  {
   "cell_type": "markdown",
   "metadata": {},
   "source": [
    "`2.` Check for missing values"
   ]
  },
  {
   "cell_type": "code",
   "execution_count": 647,
   "metadata": {},
   "outputs": [
    {
     "data": {
      "text/plain": [
       "177"
      ]
     },
     "execution_count": 647,
     "metadata": {},
     "output_type": "execute_result"
    }
   ],
   "source": [
    "len(set(movies['MovieID']) - set(ratings['MovieID']))"
   ]
  },
  {
   "cell_type": "markdown",
   "metadata": {},
   "source": [
    "There are 177 movies that have no reviews"
   ]
  },
  {
   "cell_type": "code",
   "execution_count": 648,
   "metadata": {},
   "outputs": [
    {
     "data": {
      "text/plain": [
       "0"
      ]
     },
     "execution_count": 648,
     "metadata": {},
     "output_type": "execute_result"
    }
   ],
   "source": [
    "len(set(ratings['MovieID']) - set(movies['MovieID']))"
   ]
  },
  {
   "cell_type": "markdown",
   "metadata": {},
   "source": [
    "All rated movies are listed in movies dataframe"
   ]
  },
  {
   "cell_type": "code",
   "execution_count": 649,
   "metadata": {},
   "outputs": [
    {
     "name": "stdout",
     "output_type": "stream",
     "text": [
      "Unique movies with reviews: 3706\n",
      "Total movies: 3883\n",
      "Unique users: 6040\n",
      "User-movie reviews: 1000209\n",
      "\n"
     ]
    }
   ],
   "source": [
    "unique_movies = ratings['MovieID'].nunique()\n",
    "total_movies = movies['MovieID'].nunique()\n",
    "unique_users = users['UserID'].nunique()\n",
    "user_movie_reviews = ratings.shape[0]\n",
    "print('Unique movies with reviews: {}\\nTotal movies: {}\\nUnique users: {}\\nUser-movie \\\n",
    "reviews: {}\\n'.format(unique_movies, total_movies, unique_users, user_movie_reviews))"
   ]
  },
  {
   "cell_type": "markdown",
   "metadata": {},
   "source": [
    "`3.` Calculate overall movie rating and popularity<br><br>\n",
    "Let's calculate the average rating and number of ratings per movie and merge this back with movies dataframe  using an inner join which, in turn, will remove movies that have received no ratings"
   ]
  },
  {
   "cell_type": "code",
   "execution_count": 650,
   "metadata": {},
   "outputs": [
    {
     "data": {
      "text/html": [
       "<div>\n",
       "<style scoped>\n",
       "    .dataframe tbody tr th:only-of-type {\n",
       "        vertical-align: middle;\n",
       "    }\n",
       "\n",
       "    .dataframe tbody tr th {\n",
       "        vertical-align: top;\n",
       "    }\n",
       "\n",
       "    .dataframe thead th {\n",
       "        text-align: right;\n",
       "    }\n",
       "</style>\n",
       "<table border=\"1\" class=\"dataframe\">\n",
       "  <thead>\n",
       "    <tr style=\"text-align: right;\">\n",
       "      <th></th>\n",
       "      <th>MovieID</th>\n",
       "      <th>Title</th>\n",
       "      <th>Genres</th>\n",
       "      <th>Year</th>\n",
       "      <th>Action</th>\n",
       "      <th>Adventure</th>\n",
       "      <th>Animation</th>\n",
       "      <th>Children's</th>\n",
       "      <th>Comedy</th>\n",
       "      <th>Crime</th>\n",
       "      <th>...</th>\n",
       "      <th>Horror</th>\n",
       "      <th>Musical</th>\n",
       "      <th>Mystery</th>\n",
       "      <th>Romance</th>\n",
       "      <th>Sci-Fi</th>\n",
       "      <th>Thriller</th>\n",
       "      <th>War</th>\n",
       "      <th>Western</th>\n",
       "      <th>AveRating</th>\n",
       "      <th>NumRatings</th>\n",
       "    </tr>\n",
       "  </thead>\n",
       "  <tbody>\n",
       "    <tr>\n",
       "      <td>0</td>\n",
       "      <td>1</td>\n",
       "      <td>Toy Story (1995)</td>\n",
       "      <td>Animation|Children's|Comedy</td>\n",
       "      <td>1995</td>\n",
       "      <td>0</td>\n",
       "      <td>0</td>\n",
       "      <td>1</td>\n",
       "      <td>1</td>\n",
       "      <td>1</td>\n",
       "      <td>0</td>\n",
       "      <td>...</td>\n",
       "      <td>0</td>\n",
       "      <td>0</td>\n",
       "      <td>0</td>\n",
       "      <td>0</td>\n",
       "      <td>0</td>\n",
       "      <td>0</td>\n",
       "      <td>0</td>\n",
       "      <td>0</td>\n",
       "      <td>4.146846</td>\n",
       "      <td>2077</td>\n",
       "    </tr>\n",
       "    <tr>\n",
       "      <td>1</td>\n",
       "      <td>2</td>\n",
       "      <td>Jumanji (1995)</td>\n",
       "      <td>Adventure|Children's|Fantasy</td>\n",
       "      <td>1995</td>\n",
       "      <td>0</td>\n",
       "      <td>1</td>\n",
       "      <td>0</td>\n",
       "      <td>1</td>\n",
       "      <td>0</td>\n",
       "      <td>0</td>\n",
       "      <td>...</td>\n",
       "      <td>0</td>\n",
       "      <td>0</td>\n",
       "      <td>0</td>\n",
       "      <td>0</td>\n",
       "      <td>0</td>\n",
       "      <td>0</td>\n",
       "      <td>0</td>\n",
       "      <td>0</td>\n",
       "      <td>3.201141</td>\n",
       "      <td>701</td>\n",
       "    </tr>\n",
       "    <tr>\n",
       "      <td>2</td>\n",
       "      <td>3</td>\n",
       "      <td>Grumpier Old Men (1995)</td>\n",
       "      <td>Comedy|Romance</td>\n",
       "      <td>1995</td>\n",
       "      <td>0</td>\n",
       "      <td>0</td>\n",
       "      <td>0</td>\n",
       "      <td>0</td>\n",
       "      <td>1</td>\n",
       "      <td>0</td>\n",
       "      <td>...</td>\n",
       "      <td>0</td>\n",
       "      <td>0</td>\n",
       "      <td>0</td>\n",
       "      <td>1</td>\n",
       "      <td>0</td>\n",
       "      <td>0</td>\n",
       "      <td>0</td>\n",
       "      <td>0</td>\n",
       "      <td>3.016736</td>\n",
       "      <td>478</td>\n",
       "    </tr>\n",
       "    <tr>\n",
       "      <td>3</td>\n",
       "      <td>4</td>\n",
       "      <td>Waiting to Exhale (1995)</td>\n",
       "      <td>Comedy|Drama</td>\n",
       "      <td>1995</td>\n",
       "      <td>0</td>\n",
       "      <td>0</td>\n",
       "      <td>0</td>\n",
       "      <td>0</td>\n",
       "      <td>1</td>\n",
       "      <td>0</td>\n",
       "      <td>...</td>\n",
       "      <td>0</td>\n",
       "      <td>0</td>\n",
       "      <td>0</td>\n",
       "      <td>0</td>\n",
       "      <td>0</td>\n",
       "      <td>0</td>\n",
       "      <td>0</td>\n",
       "      <td>0</td>\n",
       "      <td>2.729412</td>\n",
       "      <td>170</td>\n",
       "    </tr>\n",
       "    <tr>\n",
       "      <td>4</td>\n",
       "      <td>5</td>\n",
       "      <td>Father of the Bride Part II (1995)</td>\n",
       "      <td>Comedy</td>\n",
       "      <td>1995</td>\n",
       "      <td>0</td>\n",
       "      <td>0</td>\n",
       "      <td>0</td>\n",
       "      <td>0</td>\n",
       "      <td>1</td>\n",
       "      <td>0</td>\n",
       "      <td>...</td>\n",
       "      <td>0</td>\n",
       "      <td>0</td>\n",
       "      <td>0</td>\n",
       "      <td>0</td>\n",
       "      <td>0</td>\n",
       "      <td>0</td>\n",
       "      <td>0</td>\n",
       "      <td>0</td>\n",
       "      <td>3.006757</td>\n",
       "      <td>296</td>\n",
       "    </tr>\n",
       "  </tbody>\n",
       "</table>\n",
       "<p>5 rows × 24 columns</p>\n",
       "</div>"
      ],
      "text/plain": [
       "   MovieID                               Title                        Genres  \\\n",
       "0        1                    Toy Story (1995)   Animation|Children's|Comedy   \n",
       "1        2                      Jumanji (1995)  Adventure|Children's|Fantasy   \n",
       "2        3             Grumpier Old Men (1995)                Comedy|Romance   \n",
       "3        4            Waiting to Exhale (1995)                  Comedy|Drama   \n",
       "4        5  Father of the Bride Part II (1995)                        Comedy   \n",
       "\n",
       "   Year  Action  Adventure  Animation  Children's  Comedy  Crime  ...  Horror  \\\n",
       "0  1995       0          0          1           1       1      0  ...       0   \n",
       "1  1995       0          1          0           1       0      0  ...       0   \n",
       "2  1995       0          0          0           0       1      0  ...       0   \n",
       "3  1995       0          0          0           0       1      0  ...       0   \n",
       "4  1995       0          0          0           0       1      0  ...       0   \n",
       "\n",
       "   Musical  Mystery  Romance  Sci-Fi  Thriller  War  Western  AveRating  \\\n",
       "0        0        0        0       0         0    0        0   4.146846   \n",
       "1        0        0        0       0         0    0        0   3.201141   \n",
       "2        0        0        1       0         0    0        0   3.016736   \n",
       "3        0        0        0       0         0    0        0   2.729412   \n",
       "4        0        0        0       0         0    0        0   3.006757   \n",
       "\n",
       "   NumRatings  \n",
       "0        2077  \n",
       "1         701  \n",
       "2         478  \n",
       "3         170  \n",
       "4         296  \n",
       "\n",
       "[5 rows x 24 columns]"
      ]
     },
     "execution_count": 650,
     "metadata": {},
     "output_type": "execute_result"
    }
   ],
   "source": [
    "averatings = ratings.groupby('MovieID')['Rating'].mean()\n",
    "averatings.name = 'AveRating'\n",
    "movies = movies.merge(averatings,on='MovieID')\n",
    "\n",
    "numratings = ratings.groupby('MovieID')['Rating'].count()\n",
    "numratings.name = 'NumRatings'\n",
    "movies = movies.merge(numratings,on='MovieID')\n",
    "\n",
    "movies.head()"
   ]
  },
  {
   "cell_type": "code",
   "execution_count": 651,
   "metadata": {},
   "outputs": [
    {
     "name": "stdout",
     "output_type": "stream",
     "text": [
      "Unique movies with reviews: 3706\n",
      "Total movies: 3706\n",
      "Unique users: 6040\n",
      "User-movie reviews: 1000209\n",
      "\n"
     ]
    }
   ],
   "source": [
    "unique_movies = ratings['MovieID'].nunique() # The number of unique articles that have at least one interaction\n",
    "total_movies = movies['MovieID'].nunique() # The number of unique articles on the IBM platform\n",
    "unique_users = users['UserID'].nunique() # The number of unique users\n",
    "user_movie_reviews = ratings.shape[0] # The number of user-article interactions\n",
    "print('Unique movies with reviews: {}\\nTotal movies: {}\\nUnique users: {}\\nUser-movie \\\n",
    "reviews: {}\\n'.format(unique_movies, total_movies, unique_users, user_movie_reviews))"
   ]
  },
  {
   "cell_type": "markdown",
   "metadata": {},
   "source": [
    "After the merge, we only have the 3706 movies that have ratings"
   ]
  },
  {
   "cell_type": "markdown",
   "metadata": {},
   "source": [
    "`3.` Additional Exploration of movies, ratings and users"
   ]
  },
  {
   "cell_type": "code",
   "execution_count": 478,
   "metadata": {},
   "outputs": [
    {
     "data": {
      "text/plain": [
       "<matplotlib.axes._subplots.AxesSubplot at 0x7f80a644a790>"
      ]
     },
     "execution_count": 478,
     "metadata": {},
     "output_type": "execute_result"
    },
    {
     "data": {
      "image/png": "[encoded data removed]",
      "text/plain": [
       "<Figure size 432x288 with 1 Axes>"
      ]
     },
     "metadata": {
      "needs_background": "light"
     },
     "output_type": "display_data"
    }
   ],
   "source": [
    "ratings['Rating'].hist()"
   ]
  },
  {
   "cell_type": "markdown",
   "metadata": {},
   "source": [
    "Most movies are rated a 4, there are fewer movies with rating of 1 than a 5, the distribution is left-skewed"
   ]
  },
  {
   "cell_type": "code",
   "execution_count": 652,
   "metadata": {},
   "outputs": [
    {
     "data": {
      "text/plain": [
       "count    6040.000000\n",
       "mean      165.597517\n",
       "std       192.747029\n",
       "min        20.000000\n",
       "25%        44.000000\n",
       "50%        96.000000\n",
       "75%       208.000000\n",
       "max      2314.000000\n",
       "Name: UserID, dtype: float64"
      ]
     },
     "execution_count": 652,
     "metadata": {},
     "output_type": "execute_result"
    }
   ],
   "source": [
    "ratings['UserID'].value_counts().describe()"
   ]
  },
  {
   "cell_type": "markdown",
   "metadata": {},
   "source": [
    "Minimum number of movies reviewed by a user is 20 and maximum number of movies reviewed by a user is 2314"
   ]
  },
  {
   "cell_type": "code",
   "execution_count": 653,
   "metadata": {},
   "outputs": [
    {
     "data": {
      "text/html": [
       "<div>\n",
       "<style scoped>\n",
       "    .dataframe tbody tr th:only-of-type {\n",
       "        vertical-align: middle;\n",
       "    }\n",
       "\n",
       "    .dataframe tbody tr th {\n",
       "        vertical-align: top;\n",
       "    }\n",
       "\n",
       "    .dataframe thead th {\n",
       "        text-align: right;\n",
       "    }\n",
       "</style>\n",
       "<table border=\"1\" class=\"dataframe\">\n",
       "  <thead>\n",
       "    <tr style=\"text-align: right;\">\n",
       "      <th></th>\n",
       "      <th>Title</th>\n",
       "      <th>NumRatings</th>\n",
       "    </tr>\n",
       "  </thead>\n",
       "  <tbody>\n",
       "    <tr>\n",
       "      <td>2651</td>\n",
       "      <td>American Beauty (1999)</td>\n",
       "      <td>3428</td>\n",
       "    </tr>\n",
       "    <tr>\n",
       "      <td>253</td>\n",
       "      <td>Star Wars: Episode IV - A New Hope (1977)</td>\n",
       "      <td>2991</td>\n",
       "    </tr>\n",
       "    <tr>\n",
       "      <td>1106</td>\n",
       "      <td>Star Wars: Episode V - The Empire Strikes Back...</td>\n",
       "      <td>2990</td>\n",
       "    </tr>\n",
       "    <tr>\n",
       "      <td>1120</td>\n",
       "      <td>Star Wars: Episode VI - Return of the Jedi (1983)</td>\n",
       "      <td>2883</td>\n",
       "    </tr>\n",
       "    <tr>\n",
       "      <td>466</td>\n",
       "      <td>Jurassic Park (1993)</td>\n",
       "      <td>2672</td>\n",
       "    </tr>\n",
       "  </tbody>\n",
       "</table>\n",
       "</div>"
      ],
      "text/plain": [
       "                                                  Title  NumRatings\n",
       "2651                             American Beauty (1999)        3428\n",
       "253           Star Wars: Episode IV - A New Hope (1977)        2991\n",
       "1106  Star Wars: Episode V - The Empire Strikes Back...        2990\n",
       "1120  Star Wars: Episode VI - Return of the Jedi (1983)        2883\n",
       "466                                Jurassic Park (1993)        2672"
      ]
     },
     "execution_count": 653,
     "metadata": {},
     "output_type": "execute_result"
    }
   ],
   "source": [
    "movies[['Title','NumRatings']].sort_values('NumRatings',ascending=False).head()"
   ]
  },
  {
   "cell_type": "markdown",
   "metadata": {},
   "source": [
    "The most reviewed movie in the dataset is American Beauty and was reviewed 3428 times"
   ]
  },
  {
   "cell_type": "code",
   "execution_count": 654,
   "metadata": {},
   "outputs": [
    {
     "data": {
      "image/png": "[encoded data removed]",
      "text/plain": [
       "<Figure size 1080x360 with 2 Axes>"
      ]
     },
     "metadata": {
      "needs_background": "light"
     },
     "output_type": "display_data"
    }
   ],
   "source": [
    "fig,axes = plt.subplots(nrows=1,ncols=2,figsize=(15,5))\n",
    "ratings['UserID'].value_counts()[:500].plot(kind='bar',ax=axes[0])\n",
    "axes[0].set(xlabel='User',ylabel='Count',title='# Movie Reviews for top 500 users (total users=6040)',xticks=[])\n",
    "ratings['MovieID'].value_counts().plot(kind='bar',ax=axes[1])\n",
    "axes[1].set(xlabel='Movie',ylabel='Count',title='# Reviews per Movie (total movies=3706)',xticks=[])\n",
    "plt.show()"
   ]
  },
  {
   "cell_type": "markdown",
   "metadata": {},
   "source": [
    "### <a class=\"anchor\" id=\"Genre\">Part III: Genre-Based Recommendations</a>"
   ]
  },
  {
   "cell_type": "markdown",
   "metadata": {},
   "source": [
    "We'll use the average rating and number of ratings aggregated in Part II to recommend movies for each genre.<br>\n",
    "**For movies recommended by rating, we'll require that there are at least 100 reviews.**<br>\n",
    "**For movies recommended by popularity, we'll require that the average rating is at least 2.**"
   ]
  },
  {
   "cell_type": "code",
   "execution_count": 658,
   "metadata": {},
   "outputs": [],
   "source": [
    "def get_top_movies_by_rating(genre, n):\n",
    "    return movies[(movies['NumRatings']>100) & (movies[genre]==1)].sort_values('AveRating', \\\n",
    "    ascending=False)[['MovieID','Title','AveRating','NumRatings']][:n]\n",
    " \n",
    "def get_top_movies_by_popularity(genre, n):\n",
    "    return movies[(movies['AveRating']>2) & (movies[genre]==1)].sort_values('NumRatings', \\\n",
    "    ascending=False)[['MovieID','Title','AveRating','NumRatings']][:n]"
   ]
  },
  {
   "cell_type": "code",
   "execution_count": 659,
   "metadata": {},
   "outputs": [
    {
     "name": "stdout",
     "output_type": "stream",
     "text": [
      "Action\n",
      "---------------------------------------------------------------------------\n",
      "By Rating\n",
      "                                             Title  AveRating  NumRatings\n",
      " Seven Samurai (The Magnificent Seven) (Shichin...   4.560510         628\n",
      "                             Godfather, The (1972)   4.524966        2223\n",
      "                    Raiders of the Lost Ark (1981)   4.477725        2514\n",
      "         Star Wars: Episode IV - A New Hope (1977)   4.453694        2991\n",
      "                    Godfather: Part II, The (1974)   4.357565        1692\n",
      "By Poplularity\n",
      "                                             Title  AveRating  NumRatings\n",
      "         Star Wars: Episode IV - A New Hope (1977)   4.453694        2991\n",
      " Star Wars: Episode V - The Empire Strikes Back...   4.292977        2990\n",
      " Star Wars: Episode VI - Return of the Jedi (1983)   4.022893        2883\n",
      "                              Jurassic Park (1993)   3.763847        2672\n",
      "                        Saving Private Ryan (1998)   4.337354        2653\n",
      "---------------------------------------------------------------------------\n",
      "Adventure\n",
      "---------------------------------------------------------------------------\n",
      "By Rating\n",
      "                                     Title  AveRating  NumRatings\n",
      "            Raiders of the Lost Ark (1981)   4.477725        2514\n",
      " Star Wars: Episode IV - A New Hope (1977)   4.453694        2991\n",
      "                 Lawrence of Arabia (1962)   4.401925         831\n",
      "                  Great Escape, The (1963)   4.376437         696\n",
      "                Princess Bride, The (1987)   4.303710        2318\n",
      "By Poplularity\n",
      "                                             Title  AveRating  NumRatings\n",
      "         Star Wars: Episode IV - A New Hope (1977)   4.453694        2991\n",
      " Star Wars: Episode V - The Empire Strikes Back...   4.292977        2990\n",
      " Star Wars: Episode VI - Return of the Jedi (1983)   4.022893        2883\n",
      "                              Jurassic Park (1993)   3.763847        2672\n",
      "                               Men in Black (1997)   3.739953        2538\n",
      "---------------------------------------------------------------------------\n",
      "Animation\n",
      "---------------------------------------------------------------------------\n",
      "By Rating\n",
      "                                             Title  AveRating  NumRatings\n",
      "                             Close Shave, A (1995)   4.520548         657\n",
      "                        Wrong Trousers, The (1993)   4.507937         882\n",
      " Wallace & Gromit: The Best of Aardman Animatio...   4.426941         438\n",
      "                           Grand Day Out, A (1992)   4.361522         473\n",
      "                          Creature Comforts (1990)   4.335766         274\n",
      "By Poplularity\n",
      "                           Title  AveRating  NumRatings\n",
      "                Toy Story (1995)   4.146846        2077\n",
      " Who Framed Roger Rabbit? (1988)   3.679822        1799\n",
      "            Bug's Life, A (1998)   3.854375        1703\n",
      "              Toy Story 2 (1999)   4.218927        1585\n",
      "                  Aladdin (1992)   3.788305        1351\n",
      "---------------------------------------------------------------------------\n",
      "Children's\n",
      "---------------------------------------------------------------------------\n",
      "By Rating\n",
      "                                       Title  AveRating  NumRatings\n",
      "                    Wizard of Oz, The (1939)   4.247963        1718\n",
      "                          Toy Story 2 (1999)   4.218927        1585\n",
      "                            Toy Story (1995)   4.146846        2077\n",
      "                      Iron Giant, The (1999)   4.047478         674\n",
      " Winnie the Pooh and the Blustery Day (1968)   3.986425         221\n",
      "By Poplularity\n",
      "                             Title  AveRating  NumRatings\n",
      " E.T. the Extra-Terrestrial (1982)   3.965183        2269\n",
      "                  Toy Story (1995)   4.146846        2077\n",
      "                       Babe (1995)   3.891491        1751\n",
      "          Wizard of Oz, The (1939)   4.247963        1718\n",
      "              Bug's Life, A (1998)   3.854375        1703\n",
      "---------------------------------------------------------------------------\n",
      "Comedy\n",
      "---------------------------------------------------------------------------\n",
      "By Rating\n",
      "                      Title  AveRating  NumRatings\n",
      "      Close Shave, A (1995)   4.520548         657\n",
      " Wrong Trousers, The (1993)   4.507937         882\n",
      "             Yojimbo (1961)   4.404651         215\n",
      "         City Lights (1931)   4.387454         271\n",
      "        General, The (1927)   4.368932         206\n",
      "By Poplularity\n",
      "                      Title  AveRating  NumRatings\n",
      "     American Beauty (1999)   4.317386        3428\n",
      "  Back to the Future (1985)   3.990321        2583\n",
      "        Men in Black (1997)   3.739953        2538\n",
      " Shakespeare in Love (1998)   4.127480        2369\n",
      " Princess Bride, The (1987)   4.303710        2318\n",
      "---------------------------------------------------------------------------\n",
      "Crime\n",
      "---------------------------------------------------------------------------\n",
      "By Rating\n",
      "                          Title  AveRating  NumRatings\n",
      "          Godfather, The (1972)   4.524966        2223\n",
      "     Usual Suspects, The (1995)   4.517106        1783\n",
      "        Double Indemnity (1944)   4.415608         551\n",
      " Godfather: Part II, The (1974)   4.357565        1692\n",
      "              Sting, The (1973)   4.320305        1049\n",
      "By Poplularity\n",
      "                      Title  AveRating  NumRatings\n",
      "               Fargo (1996)   4.254676        2513\n",
      "   L.A. Confidential (1997)   4.219406        2288\n",
      "      Godfather, The (1972)   4.524966        2223\n",
      "        Pulp Fiction (1994)   4.278213        2171\n",
      " Usual Suspects, The (1995)   4.517106        1783\n",
      "---------------------------------------------------------------------------\n",
      "Documentary\n",
      "---------------------------------------------------------------------------\n",
      "By Rating\n",
      "                                             Title  AveRating  NumRatings\n",
      "                         When We Were Kings (1996)   4.321300         277\n",
      "                        Thin Blue Line, The (1988)   4.252788         269\n",
      "                          Stop Making Sense (1984)   4.234310         239\n",
      "                              War Room, The (1993)   4.227273         132\n",
      " Paradise Lost: The Child Murders at Robin Hood...   4.213836         159\n",
      "By Poplularity\n",
      "                     Title  AveRating  NumRatings\n",
      "         Roger & Me (1989)   4.073935         798\n",
      "        Hoop Dreams (1994)   4.188547         716\n",
      "              Crumb (1994)   4.063136         491\n",
      "     American Movie (1999)   4.013559         295\n",
      " When We Were Kings (1996)   4.321300         277\n",
      "---------------------------------------------------------------------------\n",
      "Drama\n",
      "---------------------------------------------------------------------------\n",
      "By Rating\n",
      "                                             Title  AveRating  NumRatings\n",
      " Seven Samurai (The Magnificent Seven) (Shichin...   4.560510         628\n",
      "                  Shawshank Redemption, The (1994)   4.554558        2227\n",
      "                             Godfather, The (1972)   4.524966        2223\n",
      "                           Schindler's List (1993)   4.510417        2304\n",
      "                             Paths of Glory (1957)   4.473913         230\n",
      "By Poplularity\n",
      "                                             Title  AveRating  NumRatings\n",
      "                            American Beauty (1999)   4.317386        3428\n",
      " Star Wars: Episode V - The Empire Strikes Back...   4.292977        2990\n",
      "                        Saving Private Ryan (1998)   4.337354        2653\n",
      "                  Silence of the Lambs, The (1991)   4.351823        2578\n",
      "                                      Fargo (1996)   4.254676        2513\n",
      "---------------------------------------------------------------------------\n",
      "Fantasy\n",
      "---------------------------------------------------------------------------\n",
      "By Rating\n",
      "                                        Title  AveRating  NumRatings\n",
      "    Star Wars: Episode IV - A New Hope (1977)   4.453694        2991\n",
      "            E.T. the Extra-Terrestrial (1982)   3.965183        2269\n",
      "                    Heavenly Creatures (1994)   3.865828         477\n",
      " Willy Wonka and the Chocolate Factory (1971)   3.861386        1313\n",
      "                                   Big (1988)   3.855801        1491\n",
      "By Poplularity\n",
      "                                            Title  AveRating  NumRatings\n",
      "        Star Wars: Episode IV - A New Hope (1977)   4.453694        2991\n",
      "                E.T. the Extra-Terrestrial (1982)   3.965183        2269\n",
      " Star Wars: Episode I - The Phantom Menace (1999)   3.409778        2250\n",
      "                               Beetlejuice (1988)   3.567893        1495\n",
      "                                       Big (1988)   3.855801        1491\n",
      "---------------------------------------------------------------------------\n",
      "Film-Noir\n",
      "---------------------------------------------------------------------------\n",
      "By Rating\n",
      "                                         Title  AveRating  NumRatings\n",
      " Sunset Blvd. (a.k.a. Sunset Boulevard) (1950)   4.491489         470\n",
      "                       Double Indemnity (1944)   4.415608         551\n",
      "                    Maltese Falcon, The (1941)   4.395973        1043\n",
      "                              Chinatown (1974)   4.339241        1185\n",
      "              Manchurian Candidate, The (1962)   4.333333         765\n",
      "By Poplularity\n",
      "                           Title  AveRating  NumRatings\n",
      "        L.A. Confidential (1997)   4.219406        2288\n",
      "             Blade Runner (1982)   4.273333        1800\n",
      " Who Framed Roger Rabbit? (1988)   3.679822        1799\n",
      "                Chinatown (1974)   4.339241        1185\n",
      "      Maltese Falcon, The (1941)   4.395973        1043\n",
      "---------------------------------------------------------------------------\n",
      "Horror\n",
      "---------------------------------------------------------------------------\n",
      "By Rating\n",
      "                     Title  AveRating  NumRatings\n",
      " Young Frankenstein (1974)   4.250629        1193\n",
      "             Psycho (1960)   4.218527        1263\n",
      "              Alien (1979)   4.159585        2024\n",
      "       Shining, The (1980)   4.104876        1087\n",
      "               Jaws (1975)   4.089570        1697\n",
      "By Poplularity\n",
      "                           Title  AveRating  NumRatings\n",
      "             Ghostbusters (1984)   3.905548        2181\n",
      "                    Alien (1979)   4.159585        2024\n",
      "                     Jaws (1975)   4.089570        1697\n",
      "                   Psycho (1960)   4.218527        1263\n",
      " Blair Witch Project, The (1999)   3.031528        1237\n",
      "---------------------------------------------------------------------------\n",
      "Musical\n",
      "---------------------------------------------------------------------------\n",
      "By Rating\n",
      "                      Title  AveRating  NumRatings\n",
      " Singin' in the Rain (1952)   4.283622         751\n",
      "   Wizard of Oz, The (1939)   4.247963        1718\n",
      "  This Is Spinal Tap (1984)   4.179785        1118\n",
      "     Shall We Dance? (1937)   4.165714         175\n",
      "        My Fair Lady (1964)   4.154088         636\n",
      "By Poplularity\n",
      "                                 Title  AveRating  NumRatings\n",
      "              Wizard of Oz, The (1939)   4.247963        1718\n",
      "                        Aladdin (1992)   3.788305        1351\n",
      "            Blues Brothers, The (1980)   3.939597        1341\n",
      " Rocky Horror Picture Show, The (1975)   3.291160        1233\n",
      "                 Lion King, The (1994)   3.860839        1121\n",
      "---------------------------------------------------------------------------\n",
      "Mystery\n",
      "---------------------------------------------------------------------------\n",
      "By Rating\n",
      "                      Title  AveRating  NumRatings\n",
      "         Rear Window (1954)   4.476190        1050\n",
      "      Third Man, The (1949)   4.452083         480\n",
      " Maltese Falcon, The (1941)   4.395973        1043\n",
      "           Chinatown (1974)   4.339241        1185\n",
      "      Big Sleep, The (1946)   4.312384         541\n",
      "By Poplularity\n",
      "                           Title  AveRating  NumRatings\n",
      "        L.A. Confidential (1997)   4.219406        2288\n",
      "    2001: A Space Odyssey (1968)   4.068765        1716\n",
      "      Mission: Impossible (1996)   3.432875        1527\n",
      " Talented Mr. Ripley, The (1999)   3.503381        1331\n",
      "                Chinatown (1974)   4.339241        1185\n",
      "---------------------------------------------------------------------------\n",
      "Romance\n",
      "---------------------------------------------------------------------------\n",
      "By Rating\n",
      "                          Title  AveRating  NumRatings\n",
      "              Casablanca (1942)   4.412822        1669\n",
      "             City Lights (1931)   4.387454         271\n",
      "     Princess Bride, The (1987)   4.303710        2318\n",
      " Philadelphia Story, The (1940)   4.300687         582\n",
      "               Notorious (1946)   4.294382         445\n",
      "By Poplularity\n",
      "                                             Title  AveRating  NumRatings\n",
      " Star Wars: Episode VI - Return of the Jedi (1983)   4.022893        2883\n",
      "                        Shakespeare in Love (1998)   4.127480        2369\n",
      "                        Princess Bride, The (1987)   4.303710        2318\n",
      "                              Groundhog Day (1993)   3.953029        2278\n",
      "                               Forrest Gump (1994)   4.087967        2194\n",
      "---------------------------------------------------------------------------\n",
      "Sci-Fi\n",
      "---------------------------------------------------------------------------\n",
      "By Rating\n",
      "                                             Title  AveRating  NumRatings\n",
      "         Star Wars: Episode IV - A New Hope (1977)   4.453694        2991\n",
      " Dr. Strangelove or: How I Learned to Stop Worr...   4.449890        1367\n",
      "                                Matrix, The (1999)   4.315830        2590\n",
      " Star Wars: Episode V - The Empire Strikes Back...   4.292977        2990\n",
      "                               Blade Runner (1982)   4.273333        1800\n",
      "By Poplularity\n",
      "                                             Title  AveRating  NumRatings\n",
      "         Star Wars: Episode IV - A New Hope (1977)   4.453694        2991\n",
      " Star Wars: Episode V - The Empire Strikes Back...   4.292977        2990\n",
      " Star Wars: Episode VI - Return of the Jedi (1983)   4.022893        2883\n",
      "                              Jurassic Park (1993)   3.763847        2672\n",
      "                 Terminator 2: Judgment Day (1991)   4.058513        2649\n",
      "---------------------------------------------------------------------------\n",
      "Thriller\n",
      "---------------------------------------------------------------------------\n",
      "By Rating\n"
     ]
    },
    {
     "name": "stdout",
     "output_type": "stream",
     "text": [
      "                      Title  AveRating  NumRatings\n",
      "      Close Shave, A (1995)   4.520548         657\n",
      " Usual Suspects, The (1995)   4.517106        1783\n",
      "         Rear Window (1954)   4.476190        1050\n",
      "      Third Man, The (1949)   4.452083         480\n",
      "    Sixth Sense, The (1999)   4.406263        2459\n",
      "By Poplularity\n",
      "                             Title  AveRating  NumRatings\n",
      " Terminator 2: Judgment Day (1991)   4.058513        2649\n",
      "                Matrix, The (1999)   4.315830        2590\n",
      "  Silence of the Lambs, The (1991)   4.351823        2578\n",
      "                      Fargo (1996)   4.254676        2513\n",
      "           Sixth Sense, The (1999)   4.406263        2459\n",
      "---------------------------------------------------------------------------\n",
      "War\n",
      "---------------------------------------------------------------------------\n",
      "By Rating\n",
      "                                             Title  AveRating  NumRatings\n",
      "                           Schindler's List (1993)   4.510417        2304\n",
      "                             Paths of Glory (1957)   4.473913         230\n",
      " Dr. Strangelove or: How I Learned to Stop Worr...   4.449890        1367\n",
      "                                 Casablanca (1942)   4.412822        1669\n",
      "                         Lawrence of Arabia (1962)   4.401925         831\n",
      "By Poplularity\n",
      "                                             Title  AveRating  NumRatings\n",
      " Star Wars: Episode V - The Empire Strikes Back...   4.292977        2990\n",
      " Star Wars: Episode VI - Return of the Jedi (1983)   4.022893        2883\n",
      "                        Saving Private Ryan (1998)   4.337354        2653\n",
      "                                 Braveheart (1995)   4.234957        2443\n",
      "                           Schindler's List (1993)   4.510417        2304\n",
      "---------------------------------------------------------------------------\n",
      "Western\n",
      "---------------------------------------------------------------------------\n",
      "By Rating\n",
      "                                     Title  AveRating  NumRatings\n",
      "                            Yojimbo (1961)   4.404651         215\n",
      " Butch Cassidy and the Sundance Kid (1969)   4.215645        1419\n",
      "                          High Noon (1952)   4.178660         403\n",
      "    Good, The Bad and The Ugly, The (1966)   4.133820         822\n",
      "                         Unforgiven (1992)   4.090271         997\n",
      "By Poplularity\n",
      "                                     Title  AveRating  NumRatings\n",
      "                 Dances with Wolves (1990)   3.915231        1451\n",
      " Butch Cassidy and the Sundance Kid (1969)   4.215645        1419\n",
      "        Back to the Future Part III (1990)   3.242160        1148\n",
      "                    Blazing Saddles (1974)   4.047364        1119\n",
      "                         Unforgiven (1992)   4.090271         997\n",
      "---------------------------------------------------------------------------\n"
     ]
    }
   ],
   "source": [
    "n=5\n",
    "for genre in genre_list:\n",
    "    print(genre)\n",
    "    print('-'*75)\n",
    "    print('By Rating')\n",
    "    print(get_top_movies_by_rating(genre,n)[['Title','AveRating','NumRatings']].to_string(index=False))\n",
    "    print('By Poplularity')\n",
    "    print(get_top_movies_by_popularity(genre,n)[['Title','AveRating','NumRatings']].to_string(index=False))\n",
    "    print('-'*75)"
   ]
  },
  {
   "cell_type": "markdown",
   "metadata": {},
   "source": [
    "### <a class=\"anchor\" id=\"User\">Part IV: User Based Collaborative Filtering</a>"
   ]
  },
  {
   "cell_type": "markdown",
   "metadata": {},
   "source": [
    "We'll use the surprise library to predict the ratings. Let's load the data"
   ]
  },
  {
   "cell_type": "code",
   "execution_count": 660,
   "metadata": {},
   "outputs": [],
   "source": [
    "reader = Reader(rating_scale=(1, 5))\n",
    "data = Dataset.load_from_df(ratings[['UserID', 'MovieID', 'Rating']], reader)"
   ]
  },
  {
   "cell_type": "markdown",
   "metadata": {},
   "source": [
    "We'll use `KNNWithMeans` algorithm from surprise library. This is a basic collaborative filtering algorithm that takes into account mean ratings of each user. The prediction is set as:\n",
    "\n",
    "$$\\hat{r}_{ui} = \\mu_u + \\frac{ \\sum\\limits_{v \\in N^k_i(u)}\n",
    "\\text{sim}(u, v) \\cdot (r_{vi} - \\mu_v)} {\\sum\\limits_{v \\in\n",
    "N^k_i(u)} \\text{sim}(u, v)}$$\n",
    "\n",
    "We'll leave min number of neighbors,`min_k`, and maximum number of neighbors, `k` to default, 1 and 40 respectively. For `sim_options`, which is a dicitonary of options for the similarity measure, we'll use `cosine` (cosine similarity) and `user_based` set to `True` to compute similarities between users.<br><br>\n",
    "\n",
    "We'll use the built-in `cross_validate` function to evaluate the model. The data will be split into 10 folds, where 90% of the data will be used for training and remaining 10% will be used for testing for each fold. We'll evaluate the `RMSE` (Root Mean Squared Error) for each fold."
   ]
  },
  {
   "cell_type": "code",
   "execution_count": 667,
   "metadata": {},
   "outputs": [
    {
     "name": "stdout",
     "output_type": "stream",
     "text": [
      "Computing the cosine similarity matrix...\n",
      "Done computing similarity matrix.\n",
      "Computing the cosine similarity matrix...\n",
      "Done computing similarity matrix.\n",
      "Computing the cosine similarity matrix...\n",
      "Done computing similarity matrix.\n",
      "Computing the cosine similarity matrix...\n",
      "Done computing similarity matrix.\n",
      "Computing the cosine similarity matrix...\n",
      "Done computing similarity matrix.\n",
      "Computing the cosine similarity matrix...\n",
      "Done computing similarity matrix.\n",
      "Computing the cosine similarity matrix...\n",
      "Done computing similarity matrix.\n",
      "Computing the cosine similarity matrix...\n",
      "Done computing similarity matrix.\n",
      "Computing the cosine similarity matrix...\n",
      "Done computing similarity matrix.\n",
      "Computing the cosine similarity matrix...\n",
      "Done computing similarity matrix.\n"
     ]
    }
   ],
   "source": [
    "# To use user-based cosine similarity\n",
    "sim_options = {\"name\": \"cosine\", \"user_based\": True}\n",
    "\n",
    "algo = KNNWithMeans(sim_options=sim_options)\n",
    "\n",
    "# Run 10-fold cross-validation and print results.\n",
    "cv_dict_user = cross_validate(algo, data, measures=['RMSE'], cv=10)"
   ]
  },
  {
   "cell_type": "code",
   "execution_count": 671,
   "metadata": {},
   "outputs": [
    {
     "name": "stdout",
     "output_type": "stream",
     "text": [
      "The algorithm took 28.5 minutes to run across all splits\n"
     ]
    }
   ],
   "source": [
    "run_time = (sum(cv_dict_user['fit_time']) + sum(cv_dict_user['test_time']))/60\n",
    "print('The algorithm took {:.1f} minutes to run across all splits'.format(run_time))"
   ]
  },
  {
   "cell_type": "markdown",
   "metadata": {},
   "source": [
    "### <a class=\"anchor\" id=\"Item\">Part V: Item Based Collaborative Filtering</a>"
   ]
  },
  {
   "cell_type": "markdown",
   "metadata": {},
   "source": [
    "We'll again use KNNWithMeans algorithm from surprise library. This is a basic collaborative filtering algorithm that takes into account mean ratings of each user. The prediction is set as:\n",
    "\n",
    "$$\\hat{r}_{ui} = \\mu_i + \\frac{ \\sum\\limits_{j \\in N^k_u(i)}\n",
    "\\text{sim}(i, j) \\cdot (r_{uj} - \\mu_j)} {\\sum\\limits_{j \\in\n",
    "N^k_u(i)} \\text{sim}(i, j)}$$\n",
    "\n",
    "We'll leave min number of neighbors and maximum number of neighbors to default, 1 and 40 respectively. For sim_options, we'll use cosine similarity and user_based set to False to compute similarities between items."
   ]
  },
  {
   "cell_type": "code",
   "execution_count": 673,
   "metadata": {},
   "outputs": [
    {
     "name": "stdout",
     "output_type": "stream",
     "text": [
      "Computing the cosine similarity matrix...\n",
      "Done computing similarity matrix.\n",
      "Computing the cosine similarity matrix...\n",
      "Done computing similarity matrix.\n",
      "Computing the cosine similarity matrix...\n",
      "Done computing similarity matrix.\n",
      "Computing the cosine similarity matrix...\n",
      "Done computing similarity matrix.\n",
      "Computing the cosine similarity matrix...\n",
      "Done computing similarity matrix.\n",
      "Computing the cosine similarity matrix...\n",
      "Done computing similarity matrix.\n",
      "Computing the cosine similarity matrix...\n",
      "Done computing similarity matrix.\n",
      "Computing the cosine similarity matrix...\n",
      "Done computing similarity matrix.\n",
      "Computing the cosine similarity matrix...\n",
      "Done computing similarity matrix.\n",
      "Computing the cosine similarity matrix...\n",
      "Done computing similarity matrix.\n"
     ]
    }
   ],
   "source": [
    "# To use item-based cosine similarity\n",
    "sim_options = {\"name\": \"cosine\", \"user_based\": False}\n",
    "\n",
    "algo = KNNWithMeans(sim_options=sim_options)\n",
    "\n",
    "# Run 5-fold cross-validation and print results.\n",
    "cv_dict_item = cross_validate(algo, data, measures=['RMSE'], cv=10)\n"
   ]
  },
  {
   "cell_type": "code",
   "execution_count": 674,
   "metadata": {},
   "outputs": [
    {
     "name": "stdout",
     "output_type": "stream",
     "text": [
      "The algorithm took 11.5 minutes to run across all splits\n"
     ]
    }
   ],
   "source": [
    "run_time = (sum(cv_dict_item['fit_time']) + sum(cv_dict_item['test_time']))/60\n",
    "print('The algorithm took {:.1f} minutes to run across all splits'.format(run_time))"
   ]
  },
  {
   "cell_type": "markdown",
   "metadata": {},
   "source": [
    "### <a class=\"anchor\" id=\"Matrix-Fact\">Part VI: Matrix Factorization using SVD</a>\n",
    "\n",
    "Now we'll use SVD to predict ratings. We'll leave the number of latent factors, `n_factors` to 100<br>\n",
    "\n",
    "The prediction is set to \n",
    "$$\\hat{r}_{ui} = \\mu + b_u + b_i + q_i^Tp_u$$\n",
    "\n",
    "where $q_i$ are item factors and $p_u$ are user factors. $b_u$ and $b_i$ are the user and item bias terms respectively.<br>\n",
    "\n",
    "We minimize the following regularized squared error\n",
    "\n",
    "$$\\sum_{r_{ui} \\in R_{train}} \\left(r_{ui} - \\hat{r}_{ui} \\right)^2 +\n",
    "\\lambda\\left(b_i^2 + b_u^2 + ||q_i||^2 + ||p_u||^2\\right)$$\n",
    "\n",
    "We'll use default paramters for the algorithm\n",
    "\n",
    "`n_factors=100` - The number of factors<br>\n",
    "`n_epochs=20` – The number of iterations<br>\n",
    "`init_mean=0` – The mean of the normal distribution for factor vectors initialization<br>\n",
    "`init_std_dev=0.1` – The standard deviation of the normal distribution for factor vectors initialization<br>\n",
    "`lr_all=0.005` – The learning rate for all parameters<br>\n",
    "`reg_all=0.02` – The regularization term for all parameters<br>"
   ]
  },
  {
   "cell_type": "code",
   "execution_count": 675,
   "metadata": {},
   "outputs": [],
   "source": [
    "algo = SVD()\n",
    "\n",
    "# Run 10-fold cross-validation and print results.\n",
    "cv_dict_svd = cross_validate(algo, data, measures=['RMSE'], cv=10)"
   ]
  },
  {
   "cell_type": "code",
   "execution_count": 676,
   "metadata": {},
   "outputs": [
    {
     "name": "stdout",
     "output_type": "stream",
     "text": [
      "The algorithm took 9.6 minutes to run across all splits\n"
     ]
    }
   ],
   "source": [
    "run_time = (sum(cv_dict_svd['fit_time']) + sum(cv_dict_svd['test_time']))/60\n",
    "print('The algorithm took {:.1f} minutes to run across all splits'.format(run_time))"
   ]
  },
  {
   "cell_type": "code",
   "execution_count": 701,
   "metadata": {},
   "outputs": [
    {
     "data": {
      "image/png": "[encoded data removed]",
      "text/plain": [
       "<Figure size 432x288 with 1 Axes>"
      ]
     },
     "metadata": {
      "needs_background": "light"
     },
     "output_type": "display_data"
    }
   ],
   "source": [
    "plt.xlabel(\"Split\")\n",
    "plt.ylabel(\"RMSE\")\n",
    "plt.plot(range(1,11), cv_dict_user['test_rmse'],label='User-Based')\n",
    "plt.plot(range(1,11), cv_dict_item['test_rmse'],label='Item-Based')\n",
    "plt.plot(range(1,11), cv_dict_svd['test_rmse'],label='SVD')\n",
    "plt.title(\"RMSE of User-Based Collaborative Filtering\")\n",
    "plt.legend()\n",
    "plt.show()"
   ]
  },
  {
   "cell_type": "markdown",
   "metadata": {},
   "source": [
    "### <a class=\"anchor\" id=\"Collaborative\">Part VII : Collaborative Filtering based Recommendations</a>"
   ]
  },
  {
   "cell_type": "markdown",
   "metadata": {},
   "source": [
    "`1.` Get movies for the user to rate, we can either have the user rate popular movies or pick movies at random, we'll use popular movies"
   ]
  },
  {
   "cell_type": "code",
   "execution_count": 694,
   "metadata": {},
   "outputs": [],
   "source": [
    "def get_popular_movies(n):\n",
    "    return movies.sort_values('NumRatings', ascending=False)[['MovieID','Title','AveRating']][:n]\n",
    "\n",
    "def get_random_movies(n):\n",
    "    return movies.sample(n)[['MovieID','Title','AveRating','NumRatings']]"
   ]
  },
  {
   "cell_type": "code",
   "execution_count": 678,
   "metadata": {},
   "outputs": [],
   "source": [
    "movies_to_rate = get_popular_movies(50)\n",
    "movies_gt_200_ratings = movies[movies['NumRatings']>200]"
   ]
  },
  {
   "cell_type": "markdown",
   "metadata": {},
   "source": [
    "`2.` The rating mechanism is implemented in the app. For testing purposes, we'll generate a random rating for each movie from 0-5, 0 will mean that the user did not rate the movie. For each rating that is not a 0, we'll append this to the ratings dataframe. We'll use `UserID` 9999 to denote this new user to avoid conflict with the existing users.<br><br>\n",
    "We'll only predict on movies that have at least 200 reviews, this is to avoid recommending movies that may have been reviewed too few times and aren't popular. Additionally, we'll leave out the prediciton for the movies that the user just rated."
   ]
  },
  {
   "cell_type": "code",
   "execution_count": 679,
   "metadata": {},
   "outputs": [],
   "source": [
    "uid = 9999\n",
    "random_ratings = np.random.randint(0,6,50)\n",
    "for i, rating in enumerate(random_ratings):\n",
    "    if rating!=0:\n",
    "        ratings = ratings.append({'UserID':9999,'MovieID':movies_to_rate.iloc[i,0],'Rating':rating},ignore_index=True)"
   ]
  },
  {
   "cell_type": "markdown",
   "metadata": {},
   "source": [
    "`2.` We'll read the new data into the `surprise` data object and train the whole dataset."
   ]
  },
  {
   "cell_type": "code",
   "execution_count": 680,
   "metadata": {},
   "outputs": [],
   "source": [
    "reader = Reader(rating_scale=(1, 5))\n",
    "data = Dataset.load_from_df(ratings[['UserID', 'MovieID', 'Rating']], reader)\n",
    "trainset = data.build_full_trainset()"
   ]
  },
  {
   "cell_type": "markdown",
   "metadata": {},
   "source": [
    "We'll write a function to take in the trained algorithm and return predictions."
   ]
  },
  {
   "cell_type": "code",
   "execution_count": 681,
   "metadata": {},
   "outputs": [],
   "source": [
    "def get_recommendations(algo, n):\n",
    "    all_recs = {}\n",
    "\n",
    "    for iid in ratings['MovieID'].unique():\n",
    "        if (iid not in movies_to_rate['MovieID'].values) and (iid in movies_gt_200_ratings['MovieID'].values):\n",
    "            est = algo.predict(uid,iid).est\n",
    "            all_recs[iid]=est\n",
    "    top_n = sorted(all_recs.items(), key=lambda x: x[1], reverse=True)[:n]\n",
    "    top_n_ids = [x[0] for x in top_n]\n",
    "    \n",
    "    top_movies = movies[movies['MovieID'].isin(top_n_ids)]\n",
    "    \n",
    "    return top_movies[['MovieID','Title','AveRating','NumRatings']]"
   ]
  },
  {
   "cell_type": "markdown",
   "metadata": {},
   "source": [
    "`3.` Let's make recommendations using all three methods - User-based, Item-based and SVD"
   ]
  },
  {
   "cell_type": "code",
   "execution_count": 685,
   "metadata": {},
   "outputs": [
    {
     "name": "stdout",
     "output_type": "stream",
     "text": [
      "Computing the cosine similarity matrix...\n",
      "Done computing similarity matrix.\n",
      "User-Based Collaborative Filtering Recommendations\n"
     ]
    },
    {
     "data": {
      "text/html": [
       "<div>\n",
       "<style scoped>\n",
       "    .dataframe tbody tr th:only-of-type {\n",
       "        vertical-align: middle;\n",
       "    }\n",
       "\n",
       "    .dataframe tbody tr th {\n",
       "        vertical-align: top;\n",
       "    }\n",
       "\n",
       "    .dataframe thead th {\n",
       "        text-align: right;\n",
       "    }\n",
       "</style>\n",
       "<table border=\"1\" class=\"dataframe\">\n",
       "  <thead>\n",
       "    <tr style=\"text-align: right;\">\n",
       "      <th></th>\n",
       "      <th>MovieID</th>\n",
       "      <th>Title</th>\n",
       "      <th>AveRating</th>\n",
       "      <th>NumRatings</th>\n",
       "    </tr>\n",
       "  </thead>\n",
       "  <tbody>\n",
       "    <tr>\n",
       "      <td>713</td>\n",
       "      <td>750</td>\n",
       "      <td>Dr. Strangelove or: How I Learned to Stop Worr...</td>\n",
       "      <td>4.449890</td>\n",
       "      <td>1367</td>\n",
       "    </tr>\n",
       "    <tr>\n",
       "      <td>847</td>\n",
       "      <td>908</td>\n",
       "      <td>North by Northwest (1959)</td>\n",
       "      <td>4.384030</td>\n",
       "      <td>1315</td>\n",
       "    </tr>\n",
       "    <tr>\n",
       "      <td>852</td>\n",
       "      <td>913</td>\n",
       "      <td>Maltese Falcon, The (1941)</td>\n",
       "      <td>4.395973</td>\n",
       "      <td>1043</td>\n",
       "    </tr>\n",
       "    <tr>\n",
       "      <td>855</td>\n",
       "      <td>916</td>\n",
       "      <td>Roman Holiday (1953)</td>\n",
       "      <td>4.216471</td>\n",
       "      <td>425</td>\n",
       "    </tr>\n",
       "    <tr>\n",
       "      <td>861</td>\n",
       "      <td>922</td>\n",
       "      <td>Sunset Blvd. (a.k.a. Sunset Boulevard) (1950)</td>\n",
       "      <td>4.491489</td>\n",
       "      <td>470</td>\n",
       "    </tr>\n",
       "    <tr>\n",
       "      <td>892</td>\n",
       "      <td>953</td>\n",
       "      <td>It's a Wonderful Life (1946)</td>\n",
       "      <td>4.299040</td>\n",
       "      <td>729</td>\n",
       "    </tr>\n",
       "    <tr>\n",
       "      <td>1066</td>\n",
       "      <td>1148</td>\n",
       "      <td>Wrong Trousers, The (1993)</td>\n",
       "      <td>4.507937</td>\n",
       "      <td>882</td>\n",
       "    </tr>\n",
       "    <tr>\n",
       "      <td>1117</td>\n",
       "      <td>1207</td>\n",
       "      <td>To Kill a Mockingbird (1962)</td>\n",
       "      <td>4.425647</td>\n",
       "      <td>928</td>\n",
       "    </tr>\n",
       "    <tr>\n",
       "      <td>2809</td>\n",
       "      <td>3022</td>\n",
       "      <td>General, The (1927)</td>\n",
       "      <td>4.368932</td>\n",
       "      <td>206</td>\n",
       "    </tr>\n",
       "    <tr>\n",
       "      <td>3664</td>\n",
       "      <td>3911</td>\n",
       "      <td>Best in Show (2000)</td>\n",
       "      <td>4.073059</td>\n",
       "      <td>657</td>\n",
       "    </tr>\n",
       "  </tbody>\n",
       "</table>\n",
       "</div>"
      ],
      "text/plain": [
       "      MovieID                                              Title  AveRating  \\\n",
       "713       750  Dr. Strangelove or: How I Learned to Stop Worr...   4.449890   \n",
       "847       908                          North by Northwest (1959)   4.384030   \n",
       "852       913                         Maltese Falcon, The (1941)   4.395973   \n",
       "855       916                               Roman Holiday (1953)   4.216471   \n",
       "861       922      Sunset Blvd. (a.k.a. Sunset Boulevard) (1950)   4.491489   \n",
       "892       953                       It's a Wonderful Life (1946)   4.299040   \n",
       "1066     1148                         Wrong Trousers, The (1993)   4.507937   \n",
       "1117     1207                       To Kill a Mockingbird (1962)   4.425647   \n",
       "2809     3022                                General, The (1927)   4.368932   \n",
       "3664     3911                                Best in Show (2000)   4.073059   \n",
       "\n",
       "      NumRatings  \n",
       "713         1367  \n",
       "847         1315  \n",
       "852         1043  \n",
       "855          425  \n",
       "861          470  \n",
       "892          729  \n",
       "1066         882  \n",
       "1117         928  \n",
       "2809         206  \n",
       "3664         657  "
      ]
     },
     "execution_count": 685,
     "metadata": {},
     "output_type": "execute_result"
    }
   ],
   "source": [
    "sim_options = {\"name\": \"cosine\", \"user_based\": True}\n",
    "algo = KNNWithMeans(sim_options=sim_options)\n",
    "algo.fit(trainset)\n",
    "print('User-Based Collaborative Filtering Recommendations')\n",
    "top_movies = get_recommendations(algo,10)\n",
    "top_movies"
   ]
  },
  {
   "cell_type": "code",
   "execution_count": 688,
   "metadata": {},
   "outputs": [
    {
     "name": "stdout",
     "output_type": "stream",
     "text": [
      "Computing the cosine similarity matrix...\n",
      "Done computing similarity matrix.\n",
      "Item-Based Collaborative Filtering Recommendations\n"
     ]
    },
    {
     "data": {
      "text/html": [
       "<div>\n",
       "<style scoped>\n",
       "    .dataframe tbody tr th:only-of-type {\n",
       "        vertical-align: middle;\n",
       "    }\n",
       "\n",
       "    .dataframe tbody tr th {\n",
       "        vertical-align: top;\n",
       "    }\n",
       "\n",
       "    .dataframe thead th {\n",
       "        text-align: right;\n",
       "    }\n",
       "</style>\n",
       "<table border=\"1\" class=\"dataframe\">\n",
       "  <thead>\n",
       "    <tr style=\"text-align: right;\">\n",
       "      <th></th>\n",
       "      <th>MovieID</th>\n",
       "      <th>Title</th>\n",
       "      <th>AveRating</th>\n",
       "      <th>NumRatings</th>\n",
       "    </tr>\n",
       "  </thead>\n",
       "  <tbody>\n",
       "    <tr>\n",
       "      <td>689</td>\n",
       "      <td>720</td>\n",
       "      <td>Wallace &amp; Gromit: The Best of Aardman Animatio...</td>\n",
       "      <td>4.426941</td>\n",
       "      <td>438</td>\n",
       "    </tr>\n",
       "    <tr>\n",
       "      <td>708</td>\n",
       "      <td>745</td>\n",
       "      <td>Close Shave, A (1995)</td>\n",
       "      <td>4.520548</td>\n",
       "      <td>657</td>\n",
       "    </tr>\n",
       "    <tr>\n",
       "      <td>713</td>\n",
       "      <td>750</td>\n",
       "      <td>Dr. Strangelove or: How I Learned to Stop Worr...</td>\n",
       "      <td>4.449890</td>\n",
       "      <td>1367</td>\n",
       "    </tr>\n",
       "    <tr>\n",
       "      <td>843</td>\n",
       "      <td>904</td>\n",
       "      <td>Rear Window (1954)</td>\n",
       "      <td>4.476190</td>\n",
       "      <td>1050</td>\n",
       "    </tr>\n",
       "    <tr>\n",
       "      <td>861</td>\n",
       "      <td>922</td>\n",
       "      <td>Sunset Blvd. (a.k.a. Sunset Boulevard) (1950)</td>\n",
       "      <td>4.491489</td>\n",
       "      <td>470</td>\n",
       "    </tr>\n",
       "    <tr>\n",
       "      <td>1066</td>\n",
       "      <td>1148</td>\n",
       "      <td>Wrong Trousers, The (1993)</td>\n",
       "      <td>4.507937</td>\n",
       "      <td>882</td>\n",
       "    </tr>\n",
       "    <tr>\n",
       "      <td>1090</td>\n",
       "      <td>1178</td>\n",
       "      <td>Paths of Glory (1957)</td>\n",
       "      <td>4.473913</td>\n",
       "      <td>230</td>\n",
       "    </tr>\n",
       "    <tr>\n",
       "      <td>1117</td>\n",
       "      <td>1207</td>\n",
       "      <td>To Kill a Mockingbird (1962)</td>\n",
       "      <td>4.425647</td>\n",
       "      <td>928</td>\n",
       "    </tr>\n",
       "    <tr>\n",
       "      <td>1122</td>\n",
       "      <td>1212</td>\n",
       "      <td>Third Man, The (1949)</td>\n",
       "      <td>4.452083</td>\n",
       "      <td>480</td>\n",
       "    </tr>\n",
       "    <tr>\n",
       "      <td>1839</td>\n",
       "      <td>2019</td>\n",
       "      <td>Seven Samurai (The Magnificent Seven) (Shichin...</td>\n",
       "      <td>4.560510</td>\n",
       "      <td>628</td>\n",
       "    </tr>\n",
       "  </tbody>\n",
       "</table>\n",
       "</div>"
      ],
      "text/plain": [
       "      MovieID                                              Title  AveRating  \\\n",
       "689       720  Wallace & Gromit: The Best of Aardman Animatio...   4.426941   \n",
       "708       745                              Close Shave, A (1995)   4.520548   \n",
       "713       750  Dr. Strangelove or: How I Learned to Stop Worr...   4.449890   \n",
       "843       904                                 Rear Window (1954)   4.476190   \n",
       "861       922      Sunset Blvd. (a.k.a. Sunset Boulevard) (1950)   4.491489   \n",
       "1066     1148                         Wrong Trousers, The (1993)   4.507937   \n",
       "1090     1178                              Paths of Glory (1957)   4.473913   \n",
       "1117     1207                       To Kill a Mockingbird (1962)   4.425647   \n",
       "1122     1212                              Third Man, The (1949)   4.452083   \n",
       "1839     2019  Seven Samurai (The Magnificent Seven) (Shichin...   4.560510   \n",
       "\n",
       "      NumRatings  \n",
       "689          438  \n",
       "708          657  \n",
       "713         1367  \n",
       "843         1050  \n",
       "861          470  \n",
       "1066         882  \n",
       "1090         230  \n",
       "1117         928  \n",
       "1122         480  \n",
       "1839         628  "
      ]
     },
     "execution_count": 688,
     "metadata": {},
     "output_type": "execute_result"
    }
   ],
   "source": [
    "sim_options = {\"name\": \"cosine\", \"user_based\": False}\n",
    "algo = KNNWithMeans(sim_options=sim_options)\n",
    "algo.fit(trainset)\n",
    "print('Item-Based Collaborative Filtering Recommendations')\n",
    "top_movies = get_recommendations(algo,10)\n",
    "top_movies"
   ]
  },
  {
   "cell_type": "code",
   "execution_count": 689,
   "metadata": {},
   "outputs": [
    {
     "name": "stdout",
     "output_type": "stream",
     "text": [
      "Item-Based Collaborative Filtering Recommendations\n"
     ]
    },
    {
     "data": {
      "text/html": [
       "<div>\n",
       "<style scoped>\n",
       "    .dataframe tbody tr th:only-of-type {\n",
       "        vertical-align: middle;\n",
       "    }\n",
       "\n",
       "    .dataframe tbody tr th {\n",
       "        vertical-align: top;\n",
       "    }\n",
       "\n",
       "    .dataframe thead th {\n",
       "        text-align: right;\n",
       "    }\n",
       "</style>\n",
       "<table border=\"1\" class=\"dataframe\">\n",
       "  <thead>\n",
       "    <tr style=\"text-align: right;\">\n",
       "      <th></th>\n",
       "      <th>MovieID</th>\n",
       "      <th>Title</th>\n",
       "      <th>AveRating</th>\n",
       "      <th>NumRatings</th>\n",
       "    </tr>\n",
       "  </thead>\n",
       "  <tbody>\n",
       "    <tr>\n",
       "      <td>837</td>\n",
       "      <td>898</td>\n",
       "      <td>Philadelphia Story, The (1940)</td>\n",
       "      <td>4.300687</td>\n",
       "      <td>582</td>\n",
       "    </tr>\n",
       "    <tr>\n",
       "      <td>838</td>\n",
       "      <td>899</td>\n",
       "      <td>Singin' in the Rain (1952)</td>\n",
       "      <td>4.283622</td>\n",
       "      <td>751</td>\n",
       "    </tr>\n",
       "    <tr>\n",
       "      <td>851</td>\n",
       "      <td>912</td>\n",
       "      <td>Casablanca (1942)</td>\n",
       "      <td>4.412822</td>\n",
       "      <td>1669</td>\n",
       "    </tr>\n",
       "    <tr>\n",
       "      <td>894</td>\n",
       "      <td>955</td>\n",
       "      <td>Bringing Up Baby (1938)</td>\n",
       "      <td>4.169492</td>\n",
       "      <td>413</td>\n",
       "    </tr>\n",
       "    <tr>\n",
       "      <td>908</td>\n",
       "      <td>969</td>\n",
       "      <td>African Queen, The (1951)</td>\n",
       "      <td>4.251656</td>\n",
       "      <td>1057</td>\n",
       "    </tr>\n",
       "    <tr>\n",
       "      <td>970</td>\n",
       "      <td>1035</td>\n",
       "      <td>Sound of Music, The (1965)</td>\n",
       "      <td>3.931973</td>\n",
       "      <td>882</td>\n",
       "    </tr>\n",
       "    <tr>\n",
       "      <td>1281</td>\n",
       "      <td>1380</td>\n",
       "      <td>Grease (1978)</td>\n",
       "      <td>3.577723</td>\n",
       "      <td>817</td>\n",
       "    </tr>\n",
       "    <tr>\n",
       "      <td>1767</td>\n",
       "      <td>1947</td>\n",
       "      <td>West Side Story (1961)</td>\n",
       "      <td>4.057819</td>\n",
       "      <td>761</td>\n",
       "    </tr>\n",
       "    <tr>\n",
       "      <td>2131</td>\n",
       "      <td>2324</td>\n",
       "      <td>Life Is Beautiful (La Vita è bella) (1997)</td>\n",
       "      <td>4.329861</td>\n",
       "      <td>1152</td>\n",
       "    </tr>\n",
       "    <tr>\n",
       "      <td>2809</td>\n",
       "      <td>3022</td>\n",
       "      <td>General, The (1927)</td>\n",
       "      <td>4.368932</td>\n",
       "      <td>206</td>\n",
       "    </tr>\n",
       "  </tbody>\n",
       "</table>\n",
       "</div>"
      ],
      "text/plain": [
       "      MovieID                                       Title  AveRating  \\\n",
       "837       898              Philadelphia Story, The (1940)   4.300687   \n",
       "838       899                  Singin' in the Rain (1952)   4.283622   \n",
       "851       912                           Casablanca (1942)   4.412822   \n",
       "894       955                     Bringing Up Baby (1938)   4.169492   \n",
       "908       969                   African Queen, The (1951)   4.251656   \n",
       "970      1035                  Sound of Music, The (1965)   3.931973   \n",
       "1281     1380                               Grease (1978)   3.577723   \n",
       "1767     1947                      West Side Story (1961)   4.057819   \n",
       "2131     2324  Life Is Beautiful (La Vita è bella) (1997)   4.329861   \n",
       "2809     3022                         General, The (1927)   4.368932   \n",
       "\n",
       "      NumRatings  \n",
       "837          582  \n",
       "838          751  \n",
       "851         1669  \n",
       "894          413  \n",
       "908         1057  \n",
       "970          882  \n",
       "1281         817  \n",
       "1767         761  \n",
       "2131        1152  \n",
       "2809         206  "
      ]
     },
     "execution_count": 689,
     "metadata": {},
     "output_type": "execute_result"
    }
   ],
   "source": [
    "algo = SVD()\n",
    "algo.fit(trainset)\n",
    "print('SVD-Based Collaborative Filtering Recommendations')\n",
    "top_movies = get_recommendations(algo,10)\n",
    "top_movies"
   ]
  },
  {
   "cell_type": "code",
   "execution_count": null,
   "metadata": {},
   "outputs": [],
   "source": []
  }
 ],
 "metadata": {
  "kernelspec": {
   "display_name": "Python 3",
   "language": "python",
   "name": "python3"
  },
  "language_info": {
   "codemirror_mode": {
    "name": "ipython",
    "version": 3
   },
   "file_extension": ".py",
   "mimetype": "text/x-python",
   "name": "python",
   "nbconvert_exporter": "python",
   "pygments_lexer": "ipython3",
   "version": "3.7.4"
  }
 },
 "nbformat": 4,
 "nbformat_minor": 2
}
